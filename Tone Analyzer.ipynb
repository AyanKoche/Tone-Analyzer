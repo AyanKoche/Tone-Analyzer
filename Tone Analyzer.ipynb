{
 "cells": [
  {
   "cell_type": "code",
   "execution_count": 1,
   "id": "daf49bba",
   "metadata": {},
   "outputs": [
    {
     "name": "stdout",
     "output_type": "stream",
     "text": [
      "Defaulting to user installation because normal site-packages is not writeable\n",
      "Requirement already satisfied: ibm_watson in c:\\users\\koche\\appdata\\roaming\\python\\python38\\site-packages (5.2.3)\n",
      "Requirement already satisfied: python-dateutil>=2.5.3 in c:\\users\\koche\\appdata\\roaming\\python\\python38\\site-packages (from ibm_watson) (2.8.1)\n",
      "Requirement already satisfied: requests<3.0,>=2.0 in c:\\users\\koche\\appdata\\roaming\\python\\python38\\site-packages (from ibm_watson) (2.24.0)\n",
      "Requirement already satisfied: websocket-client==1.1.0 in c:\\users\\koche\\appdata\\roaming\\python\\python38\\site-packages (from ibm_watson) (1.1.0)\n",
      "Requirement already satisfied: ibm-cloud-sdk-core==3.*,>=3.3.6 in c:\\users\\koche\\appdata\\roaming\\python\\python38\\site-packages (from ibm_watson) (3.11.3)\n",
      "Requirement already satisfied: PyJWT<3.0.0,>=2.0.1 in c:\\users\\koche\\appdata\\roaming\\python\\python38\\site-packages (from ibm-cloud-sdk-core==3.*,>=3.3.6->ibm_watson) (2.1.0)\n",
      "Requirement already satisfied: six>=1.5 in c:\\users\\koche\\appdata\\roaming\\python\\python38\\site-packages (from python-dateutil>=2.5.3->ibm_watson) (1.15.0)\n",
      "Requirement already satisfied: chardet<4,>=3.0.2 in c:\\users\\koche\\appdata\\roaming\\python\\python38\\site-packages (from requests<3.0,>=2.0->ibm_watson) (3.0.4)\n",
      "Requirement already satisfied: certifi>=2017.4.17 in c:\\users\\koche\\appdata\\roaming\\python\\python38\\site-packages (from requests<3.0,>=2.0->ibm_watson) (2020.6.20)\n",
      "Requirement already satisfied: idna<3,>=2.5 in c:\\users\\koche\\appdata\\roaming\\python\\python38\\site-packages (from requests<3.0,>=2.0->ibm_watson) (2.10)\n",
      "Requirement already satisfied: urllib3!=1.25.0,!=1.25.1,<1.26,>=1.21.1 in c:\\users\\koche\\appdata\\roaming\\python\\python38\\site-packages (from requests<3.0,>=2.0->ibm_watson) (1.25.11)\n"
     ]
    }
   ],
   "source": [
    "!pip install ibm_watson"
   ]
  },
  {
   "cell_type": "code",
   "execution_count": 2,
   "id": "0d94ca1a",
   "metadata": {},
   "outputs": [],
   "source": [
    "apikey='R9aM34a96bofPVZA7nUFPqbGmGC6Eo2dQG2JjGRm01ak'\n",
    "url='https://api.au-syd.tone-analyzer.watson.cloud.ibm.com/instances/3b9fbc76-6099-4f28-a761-4a85a226bad4'"
   ]
  },
  {
   "cell_type": "code",
   "execution_count": 4,
   "id": "ed558aea",
   "metadata": {},
   "outputs": [],
   "source": [
    "from ibm_watson import ToneAnalyzerV3"
   ]
  },
  {
   "cell_type": "code",
   "execution_count": 5,
   "id": "5c088100",
   "metadata": {},
   "outputs": [],
   "source": [
    "from ibm_cloud_sdk_core.authenticators import IAMAuthenticator"
   ]
  },
  {
   "cell_type": "code",
   "execution_count": 6,
   "id": "0183ca61",
   "metadata": {},
   "outputs": [],
   "source": [
    "authenticator=IAMAuthenticator(apikey)\n",
    "ta=ToneAnalyzerV3(version='2017-09-21',authenticator=authenticator)\n",
    "ta.set_service_url(url)"
   ]
  },
  {
   "cell_type": "code",
   "execution_count": 15,
   "id": "761fb7cf",
   "metadata": {},
   "outputs": [
    {
     "name": "stdout",
     "output_type": "stream",
     "text": [
      "what the hell are you doing?\n"
     ]
    },
    {
     "data": {
      "text/plain": [
       "{'document_tone': {'tones': [{'score': 0.916667,\n",
       "    'tone_id': 'sadness',\n",
       "    'tone_name': 'Sadness'},\n",
       "   {'score': 0.931034, 'tone_id': 'fear', 'tone_name': 'Fear'},\n",
       "   {'score': 0.931034, 'tone_id': 'anger', 'tone_name': 'Anger'}]}}"
      ]
     },
     "execution_count": 15,
     "metadata": {},
     "output_type": "execute_result"
    }
   ],
   "source": [
    "text=str(input())\n",
    "res=ta.tone(text).get_result()\n",
    "res"
   ]
  },
  {
   "cell_type": "code",
   "execution_count": 13,
   "id": "f7d2b52b",
   "metadata": {},
   "outputs": [],
   "source": []
  },
  {
   "cell_type": "code",
   "execution_count": null,
   "id": "1cdd8ee6",
   "metadata": {},
   "outputs": [],
   "source": []
  }
 ],
 "metadata": {
  "kernelspec": {
   "display_name": "Python 3",
   "language": "python",
   "name": "python3"
  },
  "language_info": {
   "codemirror_mode": {
    "name": "ipython",
    "version": 3
   },
   "file_extension": ".py",
   "mimetype": "text/x-python",
   "name": "python",
   "nbconvert_exporter": "python",
   "pygments_lexer": "ipython3",
   "version": "3.8.5"
  }
 },
 "nbformat": 4,
 "nbformat_minor": 5
}
